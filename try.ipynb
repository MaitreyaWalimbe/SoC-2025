{
 "cells": [
  {
   "cell_type": "code",
   "execution_count": 11,
   "id": "fec72234",
   "metadata": {},
   "outputs": [],
   "source": [
    "import numpy as np\n",
    "import pygame as pg\n",
    "import random\n",
    "import math"
   ]
  },
  {
   "cell_type": "code",
   "execution_count": 12,
   "id": "2588be7b",
   "metadata": {},
   "outputs": [],
   "source": [
    "m=int(input(\"Enter number of rows: \"))\n",
    "n=int(input(\"Enter number of columns: \"))"
   ]
  },
  {
   "cell_type": "code",
   "execution_count": 13,
   "id": "fbc6f827",
   "metadata": {},
   "outputs": [],
   "source": [
    "cells=[]\n",
    "\n",
    "for i in range(m):\n",
    "    matrix=[]\n",
    "    for i in range(n):\n",
    "        matrix.append(random.randint(1,100))\n",
    "    cells.append(matrix)\n",
    "\n",
    "x = np.array(cells)"
   ]
  },
  {
   "cell_type": "code",
   "execution_count": 14,
   "id": "e22b30ff",
   "metadata": {},
   "outputs": [],
   "source": [
    "pg.init()\n",
    "\n",
    "screen = pg.display.set_mode((800, 600))\n",
    "\n",
    "red = (255, 0, 0)\n",
    "green = (0, 255, 0)\n",
    "blue = (0, 0, 255)\n",
    "white = (255, 255, 255)\n",
    "orange = (255, 165, 0)"
   ]
  },
  {
   "cell_type": "code",
   "execution_count": 15,
   "id": "d52c578c",
   "metadata": {},
   "outputs": [],
   "source": [
    "running = True\n",
    "\n",
    "while running:\n",
    "    for event in pg.event.get():\n",
    "        if event.type == pg.QUIT:\n",
    "            running = False\n",
    "        if event.type == pg.MOUSEBUTTONDOWN:\n",
    "            pos=pg.mouse.get_pos()\n",
    "            cell_row=math.ceil(((pos[0])-50)*m/700)\n",
    "            cell_column=math.ceil(((pos[1])-50)*n/500)\n",
    "            if x[cell_row-1][cell_column-1]<20:\n",
    "                x[cell_row-1][cell_column-1]=0\n",
    "            else:\n",
    "                x[cell_row-1][cell_column-1]-=20\n",
    "            break \n",
    "    \n",
    "    for (i, j), value in np.ndenumerate(x):\n",
    "        if value >= 80:\n",
    "            color = white\n",
    "        elif value >= 50:\n",
    "            color = green\n",
    "        elif value >= 20:\n",
    "            color = blue\n",
    "        elif value<=20 and value>0:\n",
    "            color = red\n",
    "        else:\n",
    "            color = orange\n",
    "            value = 0\n",
    "        pg.draw.rect(screen, color, pg.Rect(50+(700/m)*i,50+(500/n)*j,700/m,500/n))\n",
    "    \n",
    "    pg.display.update()\n",
    "\n",
    "\n",
    "pg.quit()"
   ]
  }
 ],
 "metadata": {
  "kernelspec": {
   "display_name": "Python 3",
   "language": "python",
   "name": "python3"
  },
  "language_info": {
   "codemirror_mode": {
    "name": "ipython",
    "version": 3
   },
   "file_extension": ".py",
   "mimetype": "text/x-python",
   "name": "python",
   "nbconvert_exporter": "python",
   "pygments_lexer": "ipython3",
   "version": "3.13.3"
  }
 },
 "nbformat": 4,
 "nbformat_minor": 5
}
