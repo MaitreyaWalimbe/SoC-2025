{
 "cells": [
  {
   "cell_type": "code",
   "execution_count": null,
   "id": "fec72234",
   "metadata": {},
   "outputs": [],
   "source": [
    "# Comment added\n",
    "import numpy as np\n",
    "import pygame as pg\n",
    "import random\n",
    "\n",
    "m=int(input(\"Enter number of rows: \"))\n",
    "n=int(input(\"Enter number of columns: \"))\n",
    "\n",
    "cells=[]\n",
    "for i in range(m):\n",
    "    matrix=[]\n",
    "    for i in range(n):\n",
    "        matrix.append(random.randint(1,100))\n",
    "    cells.append(matrix)\n",
    "x = np.array(cells)\n",
    "pg.init()\n",
    "screen = pg.display.set_mode((800, 600))\n",
    "red = (255, 0, 0)\n",
    "green = (0, 255, 0)\n",
    "blue = (0, 0, 255)\n",
    "white = (255, 255, 255)\n",
    "\n",
    "running = True\n",
    "while running:\n",
    "    for event in pg.event.get():\n",
    "        if event.type == pg.QUIT:\n",
    "            running = False\n",
    "    for (i, j), value in np.ndenumerate(x):\n",
    "        if value >= 90:\n",
    "            color = white\n",
    "        elif value >= 50:\n",
    "            color = green\n",
    "        elif value >= 10:\n",
    "            color = blue\n",
    "        else:\n",
    "            color = red\n",
    "        pg.draw.rect(screen, color, pg.Rect(50+(710//m)*i,50+(510//n)*j,(710//m)-(10/m),(510//n)-(10/n)))\n",
    "    pg.display.update()\n",
    "pg.quit()\n"
   ]
  }
 ],
 "metadata": {
  "kernelspec": {
   "display_name": "Python 3",
   "language": "python",
   "name": "python3"
  },
  "language_info": {
   "codemirror_mode": {
    "name": "ipython",
    "version": 3
   },
   "file_extension": ".py",
   "mimetype": "text/x-python",
   "name": "python",
   "nbconvert_exporter": "python",
   "pygments_lexer": "ipython3",
   "version": "3.13.3"
  }
 },
 "nbformat": 4,
 "nbformat_minor": 5
}
