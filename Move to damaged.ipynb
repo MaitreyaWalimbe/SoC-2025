{
 "cells": [
  {
   "cell_type": "code",
   "execution_count": 13,
   "id": "fec72234",
   "metadata": {},
   "outputs": [],
   "source": [
    "import numpy as np\n",
    "import pygame as pg\n",
    "import random\n",
    "import math"
   ]
  },
  {
   "cell_type": "code",
   "execution_count": 14,
   "id": "2588be7b",
   "metadata": {},
   "outputs": [],
   "source": [
    "m=int(input(\"Enter number of rows: \"))\n",
    "n=int(input(\"Enter number of columns: \"))"
   ]
  },
  {
   "cell_type": "code",
   "execution_count": 15,
   "id": "fbc6f827",
   "metadata": {},
   "outputs": [],
   "source": [
    "cells=[]\n",
    "\n",
    "for i in range(m):\n",
    "    matrix=[]\n",
    "    for i in range(n):\n",
    "        matrix.append(random.randint(1,100))\n",
    "    cells.append(matrix)\n",
    "\n",
    "x = np.array(cells)"
   ]
  },
  {
   "cell_type": "code",
   "execution_count": 16,
   "id": "d3dbb5da",
   "metadata": {},
   "outputs": [],
   "source": [
    "class Healer:\n",
    "    def __init__(self):\n",
    "        self.color = (0, 255, 255)\n",
    "        self.position = (random.randint(0,m-1),random.randint(0,n-1))\n",
    "        self.target = None\n",
    "    \n",
    "    def check(self,cells):\n",
    "        damaged=[]\n",
    "        for (i,j),value in np.ndenumerate(cells):\n",
    "            if value<20 and value>0:\n",
    "                dis=math.dist(self.position,(i,j))\n",
    "                damaged.append([(i,j),value,dis])\n",
    "        return sorted(damaged,key=lambda x:x[2])\n",
    "    \n",
    "    def move(self):\n",
    "        if self.target is None:\n",
    "            self.target = [0,0]\n",
    "        self.position = self.target\n",
    "        return\n",
    "    \n",
    "    def heal(self,cells,screen,color):\n",
    "        damaged = self.check(cells)\n",
    "        if not damaged:\n",
    "            return\n",
    "        self.target = damaged[0][0]\n",
    "        self.move()\n",
    "        pg.draw.circle(screen,self.color,(50+(700/m)*self.position[0]+(350/m),50+(500/n)*self.position[1]+(250/n)),125/n)\n",
    "        pg.display.update()\n",
    "        pg.time.wait(1000)\n",
    "        cells[self.target[0],self.target[1]]=100\n",
    "        pg.draw.rect(screen,color,pg.Rect(50+(700/m)*self.target[0],50+(500/n)*self.target[1],700/m,500/n))\n",
    "        self.target = None"
   ]
  },
  {
   "cell_type": "code",
   "execution_count": 17,
   "id": "e22b30ff",
   "metadata": {},
   "outputs": [],
   "source": [
    "pg.init()\n",
    "\n",
    "screen = pg.display.set_mode((800, 600))\n",
    "\n",
    "red = (255, 0, 0)\n",
    "green = (0, 255, 0)\n",
    "blue = (0, 0, 255)\n",
    "white = (255, 255, 255)\n",
    "orange = (255, 165, 0)"
   ]
  },
  {
   "cell_type": "code",
   "execution_count": 18,
   "id": "d52c578c",
   "metadata": {},
   "outputs": [],
   "source": [
    "healing_agent=Healer()\n",
    "running = True\n",
    "\n",
    "while running:\n",
    "    for event in pg.event.get():\n",
    "        if event.type == pg.QUIT:\n",
    "            running = False\n",
    "        if event.type == pg.MOUSEBUTTONDOWN:\n",
    "            pos=pg.mouse.get_pos()\n",
    "            cell_row=math.ceil(((pos[0])-50)*m/700)\n",
    "            cell_column=math.ceil(((pos[1])-50)*n/500)\n",
    "            if x[cell_row-1][cell_column-1]<20:\n",
    "                x[cell_row-1][cell_column-1]=0\n",
    "            else:\n",
    "                x[cell_row-1][cell_column-1]-=17\n",
    "            break \n",
    "    \n",
    "    for (i, j), value in np.ndenumerate(x):\n",
    "        if value >= 80:\n",
    "            color = white\n",
    "        elif value >= 50:\n",
    "            color = green\n",
    "        elif value >= 20:\n",
    "            color = blue\n",
    "        elif value<=20 and value>0:\n",
    "            color = red\n",
    "        else:\n",
    "            color = orange\n",
    "            value = 0\n",
    "        pg.draw.rect(screen, color, pg.Rect(50+(700/m)*i,50+(500/n)*j,700/m,500/n))\n",
    "    \n",
    "    healing_agent.heal(x,screen,white)\n",
    "    pg.display.update()\n",
    "\n",
    "\n",
    "pg.quit()"
   ]
  }
 ],
 "metadata": {
  "kernelspec": {
   "display_name": "Python 3",
   "language": "python",
   "name": "python3"
  },
  "language_info": {
   "codemirror_mode": {
    "name": "ipython",
    "version": 3
   },
   "file_extension": ".py",
   "mimetype": "text/x-python",
   "name": "python",
   "nbconvert_exporter": "python",
   "pygments_lexer": "ipython3",
   "version": "3.12.10"
  }
 },
 "nbformat": 4,
 "nbformat_minor": 5
}
