{
 "cells": [
  {
   "cell_type": "code",
   "execution_count": 25,
   "id": "b2390628",
   "metadata": {},
   "outputs": [],
   "source": [
    "import numpy as np\n",
    "import pygame as pg\n",
    "import random\n",
    "import math"
   ]
  },
  {
   "cell_type": "code",
   "execution_count": 26,
   "id": "835dc9be",
   "metadata": {},
   "outputs": [],
   "source": [
    "m=int(input(\"Enter number of rows: \"))\n",
    "n=int(input(\"Enter number of columns: \"))"
   ]
  },
  {
   "cell_type": "code",
   "execution_count": 27,
   "id": "708a4ee2",
   "metadata": {},
   "outputs": [],
   "source": [
    "cells=[]\n",
    "\n",
    "for i in range(m):\n",
    "    matrix=[]\n",
    "    for i in range(n):\n",
    "        matrix.append(random.randint(1,100))\n",
    "    cells.append(matrix)\n",
    "\n",
    "x = np.array(cells)"
   ]
  },
  {
   "cell_type": "code",
   "execution_count": 28,
   "id": "af438ec6",
   "metadata": {},
   "outputs": [],
   "source": [
    "class Healer:\n",
    "    def __init__(self):\n",
    "        self.color = (0, 255, 255)\n",
    "        self.position = [0, 0]\n",
    "\n",
    "    def check(self, cells):\n",
    "        if cells[self.position[0], self.position[1]] < 20 and cells[self.position[0], self.position[1]] > 0:\n",
    "            return True\n",
    "        else:\n",
    "            return False\n",
    "        \n",
    "    def move(self, cells, screen):\n",
    "        m = cells.shape[0]\n",
    "        n = cells.shape[1]\n",
    "\n",
    "        stepchoices = [1, -1, 2, -2, -1, -2, 1, 2, 1, 2]\n",
    "        step = random.choice(stepchoices)\n",
    "\n",
    "        if step == 1:\n",
    "            if self.position[1] == n-1:\n",
    "                return\n",
    "            self.position[1] += 1\n",
    "        \n",
    "        if step == -1:\n",
    "            if self.position[1] == 0:\n",
    "                return\n",
    "            self.position[1] -= 1\n",
    "\n",
    "        if step == 2:\n",
    "            if self.position[0] == m-1:\n",
    "                return\n",
    "            self.position[0] += 1\n",
    "        \n",
    "        if step == -2:\n",
    "            if self.position[0] == 0:\n",
    "                return\n",
    "            self.position[0] -= 1\n",
    "        \n",
    "        pg.draw.circle(screen,self.color,(50+(700/m)*self.position[0]+(350/m),50+(500/n)*self.position[1]+(250/n)),125/n)\n",
    "        pg.display.update()\n",
    "        pg.time.wait(1000)\n",
    "\n",
    "        return\n",
    "    \n",
    "    def heal(self, cells, screen, color):\n",
    "        if self.check(cells):\n",
    "            cells[self.position[0],self.position[1]]=100\n",
    "            pg.draw.rect(screen,color,pg.Rect(50+(700/m)*self.position[0],50+(500/n)*self.position[1],700/m,500/n)) \n",
    "        self.move(cells, screen)"
   ]
  },
  {
   "cell_type": "code",
   "execution_count": 29,
   "id": "307842b5",
   "metadata": {},
   "outputs": [],
   "source": [
    "pg.init()\n",
    "\n",
    "screen = pg.display.set_mode((800, 600))\n",
    "\n",
    "red = (255, 0, 0)\n",
    "green = (0, 255, 0)\n",
    "blue = (0, 0, 255)\n",
    "white = (255, 255, 255)\n",
    "orange = (255, 165, 0)"
   ]
  },
  {
   "cell_type": "code",
   "execution_count": 30,
   "id": "4a907b93",
   "metadata": {},
   "outputs": [],
   "source": [
    "healing_agent=Healer()\n",
    "running = True\n",
    "\n",
    "while running:\n",
    "    for event in pg.event.get():\n",
    "        if event.type == pg.QUIT:\n",
    "            running = False\n",
    "        if event.type == pg.MOUSEBUTTONDOWN:\n",
    "            pos=pg.mouse.get_pos()\n",
    "            cell_row=math.ceil(((pos[0])-50)*m/700)\n",
    "            cell_column=math.ceil(((pos[1])-50)*n/500)\n",
    "            if x[cell_row-1][cell_column-1]<20:\n",
    "                x[cell_row-1][cell_column-1]=0\n",
    "            else:\n",
    "                x[cell_row-1][cell_column-1]-=17\n",
    "            break \n",
    "    \n",
    "    for (i, j), value in np.ndenumerate(x):\n",
    "        if value >= 80:\n",
    "            color = white\n",
    "        elif value >= 50:\n",
    "            color = green\n",
    "        elif value >= 20:\n",
    "            color = blue\n",
    "        elif value<=20 and value>0:\n",
    "            color = red\n",
    "        else:\n",
    "            color = orange\n",
    "            value = 0\n",
    "        pg.draw.rect(screen, color, pg.Rect(50+(700/m)*i,50+(500/n)*j,700/m,500/n))\n",
    "    \n",
    "    healing_agent.heal(x,screen,white)\n",
    "    pg.display.update()\n",
    "\n",
    "\n",
    "pg.quit()"
   ]
  }
 ],
 "metadata": {
  "kernelspec": {
   "display_name": "Python 3",
   "language": "python",
   "name": "python3"
  },
  "language_info": {
   "codemirror_mode": {
    "name": "ipython",
    "version": 3
   },
   "file_extension": ".py",
   "mimetype": "text/x-python",
   "name": "python",
   "nbconvert_exporter": "python",
   "pygments_lexer": "ipython3",
   "version": "3.13.3"
  }
 },
 "nbformat": 4,
 "nbformat_minor": 5
}
