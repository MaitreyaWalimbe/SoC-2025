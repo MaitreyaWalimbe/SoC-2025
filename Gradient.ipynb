{
 "cells": [
  {
   "cell_type": "code",
   "execution_count": 1,
   "id": "b2390628",
   "metadata": {},
   "outputs": [
    {
     "name": "stdout",
     "output_type": "stream",
     "text": [
      "pygame 2.6.1 (SDL 2.28.4, Python 3.12.10)\n",
      "Hello from the pygame community. https://www.pygame.org/contribute.html\n"
     ]
    },
    {
     "name": "stderr",
     "output_type": "stream",
     "text": [
      "c:\\Users\\Maitreya\\AppData\\Local\\Programs\\Python\\Python312\\Lib\\site-packages\\pygame\\pkgdata.py:25: UserWarning: pkg_resources is deprecated as an API. See https://setuptools.pypa.io/en/latest/pkg_resources.html. The pkg_resources package is slated for removal as early as 2025-11-30. Refrain from using this package or pin to Setuptools<81.\n",
      "  from pkg_resources import resource_stream, resource_exists\n"
     ]
    }
   ],
   "source": [
    "import numpy as np\n",
    "import pygame as pg\n",
    "import random\n",
    "import math"
   ]
  },
  {
   "cell_type": "code",
   "execution_count": 2,
   "id": "835dc9be",
   "metadata": {},
   "outputs": [],
   "source": [
    "m=int(input(\"Enter number of rows: \"))\n",
    "n=int(input(\"Enter number of columns: \"))"
   ]
  },
  {
   "cell_type": "code",
   "execution_count": 3,
   "id": "708a4ee2",
   "metadata": {},
   "outputs": [],
   "source": [
    "cells=[]\n",
    "\n",
    "for i in range(m):\n",
    "    matrix=[]\n",
    "    for j in range(n):\n",
    "        matrix.append(random.randint(1,100))\n",
    "    cells.append(matrix)\n",
    "\n",
    "x = np.array(cells)"
   ]
  },
  {
   "cell_type": "code",
   "execution_count": 4,
   "id": "b73782f1",
   "metadata": {},
   "outputs": [],
   "source": [
    "def get_gradient_color(value):\n",
    "    if value <= 0:\n",
    "        return (0, 0, 0)\n",
    "    \n",
    "    n = value / 100.0\n",
    "    \n",
    "    red = (255, 0, 0)     \n",
    "    green = (0, 255, 0)  \n",
    "    return (int(red[0] * (1 - n) + green[0] * n ), int(red[1] * (1 - n) + green[1] * n), int(red[2] * (1 - n) + green[2] * n))"
   ]
  },
  {
   "cell_type": "code",
   "execution_count": 5,
   "id": "af438ec6",
   "metadata": {},
   "outputs": [],
   "source": [
    "class Healer:\n",
    "    def __init__(self):\n",
    "        self.color = (0, 255, 255)\n",
    "        self.position = [0, 0]\n",
    "        self.healing = False\n",
    "\n",
    "    def check(self, cells):\n",
    "        if cells[self.position[0], self.position[1]] < 90 and cells[self.position[0], self.position[1]] > 0:\n",
    "            return True\n",
    "        else:\n",
    "            return False\n",
    "        \n",
    "    def move(self, cells):\n",
    "        m = cells.shape[0]\n",
    "        n = cells.shape[1]\n",
    "\n",
    "        stepchoices = [1, -1, 2, -2, -1, -2, 1, 2, 1, 2]\n",
    "        step = random.choice(stepchoices)\n",
    "\n",
    "        if step == 1:\n",
    "            if self.position[1] == n-1:\n",
    "                return\n",
    "            self.position[1] += 1\n",
    "        \n",
    "        elif step == -1:\n",
    "            if self.position[1] == 0:\n",
    "                return\n",
    "            self.position[1] -= 1\n",
    "\n",
    "        elif step == 2:\n",
    "            if self.position[0] == m-1:\n",
    "                return\n",
    "            self.position[0] += 1\n",
    "        \n",
    "        else:\n",
    "            if self.position[0] == 0:\n",
    "                return\n",
    "            self.position[0] -= 1\n",
    "        \n",
    "        return\n",
    "    \n",
    "    def heal(self, cells):\n",
    "        if not self.check(cells):\n",
    "            return False\n",
    "\n",
    "        r, c = self.position\n",
    "        cells[r][c] = min(100, cells[r][c] + 20)\n",
    "        return True"
   ]
  },
  {
   "cell_type": "code",
   "execution_count": 6,
   "id": "307842b5",
   "metadata": {},
   "outputs": [],
   "source": [
    "pg.init()\n",
    "\n",
    "screen = pg.display.set_mode((800, 600))"
   ]
  },
  {
   "cell_type": "code",
   "execution_count": null,
   "id": "4a907b93",
   "metadata": {},
   "outputs": [],
   "source": [
    "healing_agent=Healer()\n",
    "running = True\n",
    "\n",
    "while running:\n",
    "    for event in pg.event.get():\n",
    "        if event.type == pg.QUIT:\n",
    "            running = False\n",
    "        if event.type == pg.MOUSEBUTTONDOWN:\n",
    "            pos=pg.mouse.get_pos()\n",
    "            cell_row=math.ceil(((pos[0])-50)*m/700)\n",
    "            cell_column=math.ceil(((pos[1])-50)*n/500)\n",
    "            if x[cell_row-1][cell_column-1]<17:\n",
    "                x[cell_row-1][cell_column-1]=0\n",
    "            else:\n",
    "                x[cell_row-1][cell_column-1]-=17\n",
    "            break \n",
    "    \n",
    "    if not healing_agent.heal(x):\n",
    "        healing_agent.move(x)\n",
    "    \n",
    "    for (i, j), value in np.ndenumerate(x):\n",
    "        color = get_gradient_color(value)\n",
    "        if value == 0:\n",
    "            color = (0, 0, 0)\n",
    "        pg.draw.rect(screen, color, pg.Rect(50+(700/m)*i,50+(500/n)*j,700/m,500/n))\n",
    "\n",
    "    i, j = healing_agent.position\n",
    "    center_x = 50 + (700/m)*(i + 0.5)\n",
    "    center_y = 50 + (500/n)*(j + 0.5)\n",
    "    pg.draw.circle(screen, healing_agent.color, (center_x, center_y), 125/n)\n",
    "    pg.time.wait(300)\n",
    "\n",
    "    pg.display.update()\n",
    "\n",
    "pg.quit()"
   ]
  }
 ],
 "metadata": {
  "kernelspec": {
   "display_name": "Python 3",
   "language": "python",
   "name": "python3"
  },
  "language_info": {
   "codemirror_mode": {
    "name": "ipython",
    "version": 3
   },
   "file_extension": ".py",
   "mimetype": "text/x-python",
   "name": "python",
   "nbconvert_exporter": "python",
   "pygments_lexer": "ipython3",
   "version": "3.12.10"
  }
 },
 "nbformat": 4,
 "nbformat_minor": 5
}
